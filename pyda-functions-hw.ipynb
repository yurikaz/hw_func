{
 "cells": [
  {
   "cell_type": "markdown",
   "metadata": {},
   "source": [
    "## Задание 1"
   ]
  },
  {
   "cell_type": "markdown",
   "metadata": {},
   "source": [
    "Дан список вида:"
   ]
  },
  {
   "cell_type": "code",
   "execution_count": 1,
   "metadata": {},
   "outputs": [],
   "source": [
    "data = [\n",
    "    [13, 25, 23, 34],\n",
    "    [45, 32, 44, 47],\n",
    "    [12, 33, 23, 95],\n",
    "    [13, 53, 34, 35]\n",
    "]"
   ]
  },
  {
   "cell_type": "markdown",
   "metadata": {},
   "source": [
    "Напишите функцию, которая возвращает сумму элементов на диагонали. Т. е. 13+32+23+35.  \n",
    "Список может быть любой длины, но всегда является \"квадратным\" (количество элементов во вложенных списках равно их количеству)."
   ]
  },
  {
   "cell_type": "code",
   "execution_count": 4,
   "metadata": {},
   "outputs": [
    {
     "name": "stdout",
     "output_type": "stream",
     "text": [
      "103\n"
     ]
    }
   ],
   "source": [
    "def diago_sum(data):\n",
    "    result = 0\n",
    "    for i in range(len(data)):\n",
    "        result += data[i][i]\n",
    "    return result\n",
    "\n",
    "print(diago_sum(data))\n",
    "\n",
    "        "
   ]
  },
  {
   "cell_type": "markdown",
   "metadata": {},
   "source": [
    "## Задание 2"
   ]
  },
  {
   "cell_type": "markdown",
   "metadata": {},
   "source": [
    "Напишите функцию, возвращающую сумму первых n чисел Фибоначчи (для этого вам может понадобится ознакомиться с рекурсией)."
   ]
  },
  {
   "cell_type": "code",
   "execution_count": 5,
   "metadata": {},
   "outputs": [
    {
     "name": "stdout",
     "output_type": "stream",
     "text": [
      "17711\n"
     ]
    }
   ],
   "source": [
    "def fibo(n):\n",
    "    if n in (1, 2):\n",
    "        return 1\n",
    "    return fibo(n - 1) + fibo(n - 2)\n",
    " \n",
    " \n",
    "print(fibo(22))"
   ]
  },
  {
   "cell_type": "markdown",
   "metadata": {},
   "source": [
    "## Задание 3\n"
   ]
  },
  {
   "cell_type": "markdown",
   "metadata": {},
   "source": [
    "Напишите функцию, преобразующую произвольный список вида ['2018-01-01', 'yandex', 'cpc', 100] (он может быть любой длины) в словарь {'2018-01-01': {'yandex': {'cpc': 100}}}"
   ]
  },
  {
   "cell_type": "code",
   "execution_count": 21,
   "metadata": {},
   "outputs": [
    {
     "name": "stdout",
     "output_type": "stream",
     "text": [
      "{'2018-01-01': {'yandex': {'cpc': 100}}}\n"
     ]
    }
   ],
   "source": [
    "def magic(l):\n",
    "    r = {}\n",
    "    if len(l) == 1:\n",
    "        return l[0]\n",
    "    else:\n",
    "        r[l[0]] = magic(l[1:])\n",
    "    return r\n",
    "\n",
    "print(magic(['2018-01-01', 'yandex', 'cpc', 100]))\n"
   ]
  },
  {
   "cell_type": "markdown",
   "metadata": {},
   "source": [
    "## Задание 4"
   ]
  },
  {
   "cell_type": "markdown",
   "metadata": {},
   "source": [
    "Вы работаете секретарем и вам постоянно приходят различные документы. Вы должны быть очень внимательны, чтобы не потерять ни один документ. Каталог документов хранится в следующем виде:"
   ]
  },
  {
   "cell_type": "code",
   "execution_count": 12,
   "metadata": {},
   "outputs": [],
   "source": [
    "documents = [\n",
    "    {'type': 'passport', 'number': '2207 876234', 'name': 'Василий Гупкин'},\n",
    "    {'type': 'invoice', 'number': '11-2', 'name': 'Геннадий Покемонов'},\n",
    "    {'type': 'insurance', 'number': '10006', 'name': 'Аристарх Павлов'}\n",
    "]"
   ]
  },
  {
   "cell_type": "markdown",
   "metadata": {},
   "source": [
    "Перечень полок, на которых находятся документы хранится в следующем виде:"
   ]
  },
  {
   "cell_type": "code",
   "execution_count": 13,
   "metadata": {},
   "outputs": [],
   "source": [
    "directories = {\n",
    "    '1': ['2207 876234', '11-2', '5455 028765'],\n",
    "    '2': ['10006', '5400 028765', '5455 002299'],\n",
    "    '3': []\n",
    "}"
   ]
  },
  {
   "cell_type": "markdown",
   "metadata": {},
   "source": [
    "Необходимо реализовать пользовательские команды (внимание! это не название функций, которые должны быть выразительными, а команды, которые вводит пользователь, чтобы получить необходимый результат):\n",
    "  \n",
    "- p – people – команда, которая спросит номер документа и выведет имя человека, которому он принадлежит;  \n",
    "- s – shelf – команда, которая спросит номер документа и выведет номер полки, на которой он находится  \n",
    "Правильно обработайте ситуацию, когда пользователь будет вводить несуществующий документ.\n",
    "- l – list – команда, которая выведет список всех документов в формате   \n",
    "**passport \"2207 876234\" \"Василий Гупкин\"**  \n",
    "- as – add shelf – команда, которая спросит номер новой полки и добавит ее в перечень\n",
    "- d – delete – команда, которая спросит номер документа и удалит его из каталога и из перечня полок. Предусмотрите сценарий, когда пользователь вводит несуществующий документ;  \n",
    "- m – move – команда, которая спросит номер документа и целевую полку и переместит его с текущей полки на целевую. Корректно обработайте кейсы, когда пользователь пытается переместить несуществующий документ или переместить документ на несуществующую полку;  \n",
    " a – add – команда, которая добавит новый документ в каталог и в перечень полок, спросив его номер, тип, имя владельца и номер полки, на котором он будет храниться."
   ]
  },
  {
   "cell_type": "code",
   "execution_count": null,
   "metadata": {},
   "outputs": [],
   "source": []
  },
  {
   "cell_type": "code",
   "execution_count": 21,
   "metadata": {},
   "outputs": [
    {
     "name": "stdout",
     "output_type": "stream",
     "text": [
      "{'1': ['2207 876234', '5455 028765', '11-2'], '2': ['10006', '5400 028765', '5455 002299'], '3': ['11-3']}\n",
      "// -> a\n",
      "Введите номер документа:11-3\n",
      "Введите тип документа:e\n",
      "Введите владельца:e\n",
      "Введите полку:e\n",
      "Результат добавления: ошибка - полка не найдена\n",
      "// -> a\n",
      "Введите номер документа:11-3\n",
      "Введите тип документа:e\n",
      "Введите владельца:e\n",
      "Введите полку:3\n",
      "Результат добавления: ошибка - документ с таким номером уже существует\n",
      "// -> e\n",
      "Выход\n"
     ]
    }
   ],
   "source": [
    "# поиск имени владельца по номеру документа\n",
    "def doc_owner(doc_num):\n",
    "    result = \"Документ не найден\"\n",
    "    for doc in documents:\n",
    "        if doc['number'] == doc_num:\n",
    "            result = 'владелец документа ' + doc['name']\n",
    "    return result\n",
    "\n",
    "# поиск полки по номеру документа\n",
    "def doc_shelf(doc_num):\n",
    "    result = \"Документ не найден\"\n",
    "    for shelf in directories:\n",
    "        if doc_num in directories[shelf]:\n",
    "            result = 'документ на полке ' + str(shelf)\n",
    "    return result\n",
    "\n",
    "# Удаление документа\n",
    "def doc_del(doc_num):\n",
    "    result = \"Документ не найден\"\n",
    "    for shelf in directories:\n",
    "        if doc_num in directories[shelf]:\n",
    "            for doc in documents:\n",
    "                if doc['number'] == doc_num: \n",
    "                    directories[shelf].remove(doc_num)\n",
    "                    documents.remove(doc)\n",
    "                    result = 'документ ' + doc_num + ' удален'\n",
    "    return result\n",
    "\n",
    "# Перемещение документа на другую полку\n",
    "def doc_mov(doc_num,shelf_num):\n",
    "    result = ''\n",
    "    shelf = doc_shelf(doc_num) \n",
    "    if shelf == \"Документ не найден\":\n",
    "        result = 'Документ не найден'\n",
    "    elif directories.get(shelf_num) == None:\n",
    "        result = 'новая полка не найдена'\n",
    "    else:\n",
    "        for shelf in directories:\n",
    "            if doc_num in directories[shelf]:\n",
    "                directories[shelf].remove(doc_num)\n",
    "        directories.get(shelf_num).append(doc_num)\n",
    "        result = 'документ '+ doc_num + ' переложили на полку ' + shelf_num\n",
    "    return result\n",
    "\n",
    "# добавление документа\n",
    "def doc_add(doc_num, doc_name, doc_type, shelf_num):\n",
    "    doc = {}\n",
    "    if directories.get(shelf_num) == None:\n",
    "        result = 'ошибка - полка не найдена'\n",
    "    elif doc_shelf(doc_num) != 'Документ не найден':\n",
    "        result = 'ошибка - документ с таким номером уже существует'\n",
    "    else:\n",
    "        doc['number']  = doc_num\n",
    "        doc['type'] = doc_type\n",
    "        doc['name'] = doc_name\n",
    "        documents.append(doc)\n",
    "        directories.get(shelf_num).append(doc_num)\n",
    "        result = 'документ '+ doc_num + ' успешно добавлен'\n",
    "    return result\n",
    "\n",
    "# списко документов\n",
    "def doc_list():\n",
    "    result = []\n",
    "    for doc in documents:\n",
    "        result.append('**' + doc['type'] + ' \"' + doc['number'] +'\" \"' + doc['name'] + '\"**')\n",
    "    return result\n",
    "\n",
    "# добавление новой полки\n",
    "def add_shelf(shelf_num):\n",
    "    result = 'ошибка добавления - полка уже существует'\n",
    "    if directories.get(shelf_num) == None:\n",
    "        directories[shelf_num] = []\n",
    "        result = 'успешно добавлена полка ' + shelf_num\n",
    "    return result\n",
    "\n",
    "def command_shell(c):\n",
    "    result = 0\n",
    "    if c == 'p':\n",
    "        doc_num = input('Введите номер документа:')\n",
    "        print('Результат поиска:', doc_owner(doc_num))\n",
    "        result = 'people'\n",
    "    elif c == 's':\n",
    "        doc_num = input('Введите номер документа:')\n",
    "        print('Результат поиска:', doc_shelf(doc_num))\n",
    "        result = 'shelf'\n",
    "    elif c == 'l':\n",
    "        docs = doc_list()\n",
    "        print('Список документов:')\n",
    "        if len(docs) > 0: \n",
    "            for doc in docs:\n",
    "                print(doc)\n",
    "        else: \n",
    "            print('Пуст')\n",
    "        result = 'list'\n",
    "    elif c == 'as':\n",
    "        shelf_num = input('Введите номер новой полки:')\n",
    "        print('Результат:', add_shelf(shelf_num))\n",
    "        result = 'add shelf'   \n",
    "    elif c == 'd':\n",
    "        doc_num = input('Введите номер документа:')\n",
    "        print('Результат удаления:', doc_del(doc_num))\n",
    "        result = 'delete'    \n",
    "    elif c == 'm':\n",
    "        doc_num = input('Введите номер документа:')\n",
    "        shelf_num = input('Введите новую полку:')\n",
    "        print('Результат перемещения:', doc_mov(doc_num,shelf_num))\n",
    "        result = 'move'    \n",
    "    elif c == 'a':\n",
    "        doc_num = input('Введите номер документа:')\n",
    "        doc_type = input('Введите тип документа:')\n",
    "        doc_name = input('Введите владельца:')\n",
    "        shelf_num = input('Введите полку:')\n",
    "        print('Результат добавления:', doc_add(doc_num, doc_name, doc_type, shelf_num))\n",
    "        result = 'add doc'    \n",
    "    elif c == 'e':\n",
    "        print('Выход')\n",
    "        result = 'exit'\n",
    "    else:\n",
    "        print('Неизвестная команда. Введите команду e для выхода (exit)')\n",
    "        result = 'unknown'\n",
    "    return result\n",
    "\n",
    "print(directories)\n",
    "\n",
    "while True:\n",
    "    c = input('// -> ')\n",
    "    res = command_shell(c) \n",
    "    if res == 'exit':\n",
    "        break\n",
    "    "
   ]
  }
 ],
 "metadata": {
  "kernelspec": {
   "display_name": "Python 3",
   "language": "python",
   "name": "python3"
  },
  "language_info": {
   "codemirror_mode": {
    "name": "ipython",
    "version": 3
   },
   "file_extension": ".py",
   "mimetype": "text/x-python",
   "name": "python",
   "nbconvert_exporter": "python",
   "pygments_lexer": "ipython3",
   "version": "3.7.4"
  }
 },
 "nbformat": 4,
 "nbformat_minor": 2
}
